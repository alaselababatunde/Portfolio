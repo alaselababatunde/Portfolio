{
 "cells": [
  {
   "cell_type": "markdown",
   "id": "a72bee5b-9afa-4546-8b2f-d4a832f85087",
   "metadata": {},
   "source": [
    "# Tokenization, Encoding and Decoding"
   ]
  },
  {
   "cell_type": "code",
   "execution_count": 17,
   "id": "8d6ee963-cd59-4bcb-92e8-e546877b3a9a",
   "metadata": {},
   "outputs": [],
   "source": [
    "from transformers import AutoTokenizer\n",
    "tokenizer = AutoTokenizer.from_pretrained(\"bert-base-cased\")\n",
    "sequence = \"Transformers Network is easy to use\""
   ]
  },
  {
   "cell_type": "code",
   "execution_count": 16,
   "id": "5dc8e610-b4dd-4845-b3ec-d5c4bff0eba6",
   "metadata": {},
   "outputs": [
    {
     "name": "stdout",
     "output_type": "stream",
     "text": [
      "['Transformers', 'Network', 'is', 'easy', 'to', 'use']\n"
     ]
    }
   ],
   "source": [
    "tokenized_text = tokenizer.tokenize(sequence)\n",
    "print(tokenized_text)"
   ]
  },
  {
   "cell_type": "code",
   "execution_count": 15,
   "id": "e105e2f2-d80b-4257-9b40-2e75007f2496",
   "metadata": {},
   "outputs": [
    {
     "name": "stdout",
     "output_type": "stream",
     "text": [
      "[25267, 3998, 1110, 3123, 1106, 1329]\n"
     ]
    }
   ],
   "source": [
    "tokenized_text_ids = tokenizer.convert_tokens_to_ids(tokenized_text)\n",
    "print (tokenized_text_ids)"
   ]
  },
  {
   "cell_type": "code",
   "execution_count": 14,
   "id": "58f0bfb7-966b-4ced-a771-d2b5a20cbae7",
   "metadata": {},
   "outputs": [
    {
     "name": "stdout",
     "output_type": "stream",
     "text": [
      "Transformers Network is easy to use\n"
     ]
    }
   ],
   "source": [
    "decoded_tokenized_text_ids = tokenizer.decode(tokenized_text_ids)\n",
    "print(decoded_tokenized_text_ids)"
   ]
  }
 ],
 "metadata": {
  "kernelspec": {
   "display_name": "Python (venv)",
   "language": "python",
   "name": "venv"
  },
  "language_info": {
   "codemirror_mode": {
    "name": "ipython",
    "version": 3
   },
   "file_extension": ".py",
   "mimetype": "text/x-python",
   "name": "python",
   "nbconvert_exporter": "python",
   "pygments_lexer": "ipython3",
   "version": "3.12.3"
  }
 },
 "nbformat": 4,
 "nbformat_minor": 5
}
